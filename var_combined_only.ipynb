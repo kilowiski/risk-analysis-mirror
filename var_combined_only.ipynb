{
 "cells": [
  {
   "cell_type": "code",
   "execution_count": 49,
   "metadata": {},
   "outputs": [],
   "source": [
    "import pandas as pd\n",
    "import numpy as np\n",
    "from scipy.stats import norm\n",
    "import matplotlib.pyplot as plt\n",
    "from scipy.stats import multivariate_normal\n",
    "from scipy.stats import qmc"
   ]
  },
  {
   "cell_type": "code",
   "execution_count": 50,
   "metadata": {},
   "outputs": [],
   "source": [
    "var_percentile = 0.05\n",
    "rng_seed = 10\n",
    "curr_stock_val = 1e6 * np.ones(4)\n",
    "fixed_leg_rate = 4.2 / 100\n",
    "one_bee_pee = 0.01 / 100\n",
    "swap_notional = 100_000_000\n",
    "start_date = pd.to_datetime(\"2023-10-30\")"
   ]
  },
  {
   "cell_type": "markdown",
   "metadata": {},
   "source": [
    "## Data Prep ##"
   ]
  },
  {
   "cell_type": "code",
   "execution_count": 51,
   "metadata": {},
   "outputs": [],
   "source": [
    "swap_raw = pd.read_excel(\"hist_data.xlsm\", sheet_name=\"SofrCurve\")\n",
    "aapl_raw = pd.read_excel(\"hist_data.xlsm\", sheet_name=\"AAPL\").set_index(\"Date\")\n",
    "msft_raw = pd.read_excel(\"hist_data.xlsm\", sheet_name=\"MSFT\").set_index(\"Date\")\n",
    "f_raw = pd.read_excel(\"hist_data.xlsm\", sheet_name=\"F\").set_index(\"Date\")\n",
    "bac_raw = pd.read_excel(\"hist_data.xlsm\", sheet_name=\"BAC\").set_index(\"Date\")"
   ]
  },
  {
   "cell_type": "code",
   "execution_count": 52,
   "metadata": {},
   "outputs": [
    {
     "data": {
      "text/html": [
       "<div>\n",
       "<style scoped>\n",
       "    .dataframe tbody tr th:only-of-type {\n",
       "        vertical-align: middle;\n",
       "    }\n",
       "\n",
       "    .dataframe tbody tr th {\n",
       "        vertical-align: top;\n",
       "    }\n",
       "\n",
       "    .dataframe thead th {\n",
       "        text-align: right;\n",
       "    }\n",
       "</style>\n",
       "<table border=\"1\" class=\"dataframe\">\n",
       "  <thead>\n",
       "    <tr style=\"text-align: right;\">\n",
       "      <th></th>\n",
       "      <th>Tenor</th>\n",
       "      <th>T</th>\n",
       "      <th>2022-10-31 00:00:00</th>\n",
       "      <th>2022-11-01 00:00:00</th>\n",
       "      <th>2022-11-02 00:00:00</th>\n",
       "      <th>2022-11-03 00:00:00</th>\n",
       "      <th>2022-11-04 00:00:00</th>\n",
       "      <th>2022-11-07 00:00:00</th>\n",
       "      <th>2022-11-08 00:00:00</th>\n",
       "      <th>2022-11-09 00:00:00</th>\n",
       "      <th>...</th>\n",
       "      <th>2023-10-17 00:00:00</th>\n",
       "      <th>2023-10-18 00:00:00</th>\n",
       "      <th>2023-10-19 00:00:00</th>\n",
       "      <th>2023-10-20 00:00:00</th>\n",
       "      <th>2023-10-23 00:00:00</th>\n",
       "      <th>2023-10-24 00:00:00</th>\n",
       "      <th>2023-10-25 00:00:00</th>\n",
       "      <th>2023-10-26 00:00:00</th>\n",
       "      <th>2023-10-27 00:00:00</th>\n",
       "      <th>2023-10-30 00:00:00</th>\n",
       "    </tr>\n",
       "  </thead>\n",
       "  <tbody>\n",
       "    <tr>\n",
       "      <th>0</th>\n",
       "      <td>1D</td>\n",
       "      <td>0.002778</td>\n",
       "      <td>0.039191</td>\n",
       "      <td>0.039604</td>\n",
       "      <td>0.039948</td>\n",
       "      <td>0.040389</td>\n",
       "      <td>0.045965</td>\n",
       "      <td>0.040224</td>\n",
       "      <td>0.040339</td>\n",
       "      <td>0.040373</td>\n",
       "      <td>...</td>\n",
       "      <td>0.052964</td>\n",
       "      <td>0.053038</td>\n",
       "      <td>0.053050</td>\n",
       "      <td>0.053072</td>\n",
       "      <td>0.053090</td>\n",
       "      <td>0.053105</td>\n",
       "      <td>0.052981</td>\n",
       "      <td>0.053047</td>\n",
       "      <td>0.052989</td>\n",
       "      <td>0.052967</td>\n",
       "    </tr>\n",
       "    <tr>\n",
       "      <th>1</th>\n",
       "      <td>1M</td>\n",
       "      <td>0.083333</td>\n",
       "      <td>0.038721</td>\n",
       "      <td>0.039023</td>\n",
       "      <td>0.039286</td>\n",
       "      <td>0.039585</td>\n",
       "      <td>0.042343</td>\n",
       "      <td>0.039258</td>\n",
       "      <td>0.039211</td>\n",
       "      <td>0.039193</td>\n",
       "      <td>...</td>\n",
       "      <td>0.053114</td>\n",
       "      <td>0.053102</td>\n",
       "      <td>0.053086</td>\n",
       "      <td>0.053046</td>\n",
       "      <td>0.053077</td>\n",
       "      <td>0.053084</td>\n",
       "      <td>0.053057</td>\n",
       "      <td>0.053089</td>\n",
       "      <td>0.053040</td>\n",
       "      <td>0.053053</td>\n",
       "    </tr>\n",
       "    <tr>\n",
       "      <th>2</th>\n",
       "      <td>2M</td>\n",
       "      <td>0.166667</td>\n",
       "      <td>0.038670</td>\n",
       "      <td>0.038886</td>\n",
       "      <td>0.039100</td>\n",
       "      <td>0.039350</td>\n",
       "      <td>0.038795</td>\n",
       "      <td>0.039460</td>\n",
       "      <td>0.039420</td>\n",
       "      <td>0.039483</td>\n",
       "      <td>...</td>\n",
       "      <td>0.053374</td>\n",
       "      <td>0.053284</td>\n",
       "      <td>0.053226</td>\n",
       "      <td>0.053128</td>\n",
       "      <td>0.053191</td>\n",
       "      <td>0.053202</td>\n",
       "      <td>0.053259</td>\n",
       "      <td>0.053218</td>\n",
       "      <td>0.053185</td>\n",
       "      <td>0.053265</td>\n",
       "    </tr>\n",
       "    <tr>\n",
       "      <th>3</th>\n",
       "      <td>3M</td>\n",
       "      <td>0.250000</td>\n",
       "      <td>0.040536</td>\n",
       "      <td>0.040725</td>\n",
       "      <td>0.040852</td>\n",
       "      <td>0.041154</td>\n",
       "      <td>0.040611</td>\n",
       "      <td>0.041424</td>\n",
       "      <td>0.041406</td>\n",
       "      <td>0.041445</td>\n",
       "      <td>...</td>\n",
       "      <td>0.053666</td>\n",
       "      <td>0.053561</td>\n",
       "      <td>0.053454</td>\n",
       "      <td>0.053323</td>\n",
       "      <td>0.053404</td>\n",
       "      <td>0.053424</td>\n",
       "      <td>0.053490</td>\n",
       "      <td>0.053414</td>\n",
       "      <td>0.053368</td>\n",
       "      <td>0.053476</td>\n",
       "    </tr>\n",
       "    <tr>\n",
       "      <th>4</th>\n",
       "      <td>6M</td>\n",
       "      <td>0.500000</td>\n",
       "      <td>0.044577</td>\n",
       "      <td>0.044849</td>\n",
       "      <td>0.044884</td>\n",
       "      <td>0.045281</td>\n",
       "      <td>0.045212</td>\n",
       "      <td>0.045455</td>\n",
       "      <td>0.045334</td>\n",
       "      <td>0.045299</td>\n",
       "      <td>...</td>\n",
       "      <td>0.054078</td>\n",
       "      <td>0.053989</td>\n",
       "      <td>0.053758</td>\n",
       "      <td>0.053546</td>\n",
       "      <td>0.053638</td>\n",
       "      <td>0.053690</td>\n",
       "      <td>0.053749</td>\n",
       "      <td>0.053567</td>\n",
       "      <td>0.053486</td>\n",
       "      <td>0.053612</td>\n",
       "    </tr>\n",
       "  </tbody>\n",
       "</table>\n",
       "<p>5 rows × 253 columns</p>\n",
       "</div>"
      ],
      "text/plain": [
       "  Tenor         T  2022-10-31 00:00:00  2022-11-01 00:00:00  \\\n",
       "0    1D  0.002778             0.039191             0.039604   \n",
       "1    1M  0.083333             0.038721             0.039023   \n",
       "2    2M  0.166667             0.038670             0.038886   \n",
       "3    3M  0.250000             0.040536             0.040725   \n",
       "4    6M  0.500000             0.044577             0.044849   \n",
       "\n",
       "   2022-11-02 00:00:00  2022-11-03 00:00:00  2022-11-04 00:00:00  \\\n",
       "0             0.039948             0.040389             0.045965   \n",
       "1             0.039286             0.039585             0.042343   \n",
       "2             0.039100             0.039350             0.038795   \n",
       "3             0.040852             0.041154             0.040611   \n",
       "4             0.044884             0.045281             0.045212   \n",
       "\n",
       "   2022-11-07 00:00:00  2022-11-08 00:00:00  2022-11-09 00:00:00  ...  \\\n",
       "0             0.040224             0.040339             0.040373  ...   \n",
       "1             0.039258             0.039211             0.039193  ...   \n",
       "2             0.039460             0.039420             0.039483  ...   \n",
       "3             0.041424             0.041406             0.041445  ...   \n",
       "4             0.045455             0.045334             0.045299  ...   \n",
       "\n",
       "   2023-10-17 00:00:00  2023-10-18 00:00:00  2023-10-19 00:00:00  \\\n",
       "0             0.052964             0.053038             0.053050   \n",
       "1             0.053114             0.053102             0.053086   \n",
       "2             0.053374             0.053284             0.053226   \n",
       "3             0.053666             0.053561             0.053454   \n",
       "4             0.054078             0.053989             0.053758   \n",
       "\n",
       "   2023-10-20 00:00:00  2023-10-23 00:00:00  2023-10-24 00:00:00  \\\n",
       "0             0.053072             0.053090             0.053105   \n",
       "1             0.053046             0.053077             0.053084   \n",
       "2             0.053128             0.053191             0.053202   \n",
       "3             0.053323             0.053404             0.053424   \n",
       "4             0.053546             0.053638             0.053690   \n",
       "\n",
       "   2023-10-25 00:00:00  2023-10-26 00:00:00  2023-10-27 00:00:00  \\\n",
       "0             0.052981             0.053047             0.052989   \n",
       "1             0.053057             0.053089             0.053040   \n",
       "2             0.053259             0.053218             0.053185   \n",
       "3             0.053490             0.053414             0.053368   \n",
       "4             0.053749             0.053567             0.053486   \n",
       "\n",
       "   2023-10-30 00:00:00  \n",
       "0             0.052967  \n",
       "1             0.053053  \n",
       "2             0.053265  \n",
       "3             0.053476  \n",
       "4             0.053612  \n",
       "\n",
       "[5 rows x 253 columns]"
      ]
     },
     "execution_count": 52,
     "metadata": {},
     "output_type": "execute_result"
    }
   ],
   "source": [
    "swap_raw.head()"
   ]
  },
  {
   "cell_type": "code",
   "execution_count": 53,
   "metadata": {},
   "outputs": [],
   "source": [
    "# clean up swap raw\n",
    "swap_raw.index = swap_raw[\"T\"]\n",
    "swap_raw.drop(columns=[\"T\"], inplace=True)\n",
    "swap_raw.drop(columns=[\"Tenor\"], inplace=True)\n",
    "swap_raw = swap_raw.T"
   ]
  },
  {
   "cell_type": "code",
   "execution_count": 54,
   "metadata": {},
   "outputs": [
    {
     "data": {
      "text/html": [
       "<div>\n",
       "<style scoped>\n",
       "    .dataframe tbody tr th:only-of-type {\n",
       "        vertical-align: middle;\n",
       "    }\n",
       "\n",
       "    .dataframe tbody tr th {\n",
       "        vertical-align: top;\n",
       "    }\n",
       "\n",
       "    .dataframe thead th {\n",
       "        text-align: right;\n",
       "    }\n",
       "</style>\n",
       "<table border=\"1\" class=\"dataframe\">\n",
       "  <thead>\n",
       "    <tr style=\"text-align: right;\">\n",
       "      <th>T</th>\n",
       "      <th>0.002778</th>\n",
       "      <th>0.083333</th>\n",
       "      <th>0.166667</th>\n",
       "      <th>0.250000</th>\n",
       "      <th>0.500000</th>\n",
       "      <th>0.750000</th>\n",
       "      <th>1.000000</th>\n",
       "      <th>2.000000</th>\n",
       "      <th>3.000000</th>\n",
       "      <th>4.000000</th>\n",
       "      <th>...</th>\n",
       "      <th>15.000000</th>\n",
       "      <th>16.000000</th>\n",
       "      <th>17.000000</th>\n",
       "      <th>18.000000</th>\n",
       "      <th>19.000000</th>\n",
       "      <th>20.000000</th>\n",
       "      <th>25.000000</th>\n",
       "      <th>30.000000</th>\n",
       "      <th>35.000000</th>\n",
       "      <th>40.000000</th>\n",
       "    </tr>\n",
       "  </thead>\n",
       "  <tbody>\n",
       "    <tr>\n",
       "      <th>2022-10-31 00:00:00</th>\n",
       "      <td>0.039191</td>\n",
       "      <td>0.038721</td>\n",
       "      <td>0.038670</td>\n",
       "      <td>0.040536</td>\n",
       "      <td>0.044577</td>\n",
       "      <td>0.046004</td>\n",
       "      <td>0.046449</td>\n",
       "      <td>0.044583</td>\n",
       "      <td>0.042002</td>\n",
       "      <td>0.040318</td>\n",
       "      <td>...</td>\n",
       "      <td>0.037151</td>\n",
       "      <td>0.037057</td>\n",
       "      <td>0.036907</td>\n",
       "      <td>0.036698</td>\n",
       "      <td>0.036433</td>\n",
       "      <td>0.036111</td>\n",
       "      <td>0.034091</td>\n",
       "      <td>0.032350</td>\n",
       "      <td>0.030552</td>\n",
       "      <td>0.028708</td>\n",
       "    </tr>\n",
       "    <tr>\n",
       "      <th>2022-11-01 00:00:00</th>\n",
       "      <td>0.039604</td>\n",
       "      <td>0.039023</td>\n",
       "      <td>0.038886</td>\n",
       "      <td>0.040725</td>\n",
       "      <td>0.044849</td>\n",
       "      <td>0.046448</td>\n",
       "      <td>0.046970</td>\n",
       "      <td>0.045022</td>\n",
       "      <td>0.042344</td>\n",
       "      <td>0.040614</td>\n",
       "      <td>...</td>\n",
       "      <td>0.036802</td>\n",
       "      <td>0.036682</td>\n",
       "      <td>0.036511</td>\n",
       "      <td>0.036287</td>\n",
       "      <td>0.036010</td>\n",
       "      <td>0.035678</td>\n",
       "      <td>0.033645</td>\n",
       "      <td>0.031979</td>\n",
       "      <td>0.030238</td>\n",
       "      <td>0.028478</td>\n",
       "    </tr>\n",
       "    <tr>\n",
       "      <th>2022-11-02 00:00:00</th>\n",
       "      <td>0.039948</td>\n",
       "      <td>0.039286</td>\n",
       "      <td>0.039100</td>\n",
       "      <td>0.040852</td>\n",
       "      <td>0.044884</td>\n",
       "      <td>0.046580</td>\n",
       "      <td>0.047203</td>\n",
       "      <td>0.045496</td>\n",
       "      <td>0.042749</td>\n",
       "      <td>0.040868</td>\n",
       "      <td>...</td>\n",
       "      <td>0.036855</td>\n",
       "      <td>0.036701</td>\n",
       "      <td>0.036498</td>\n",
       "      <td>0.036248</td>\n",
       "      <td>0.035953</td>\n",
       "      <td>0.035613</td>\n",
       "      <td>0.033627</td>\n",
       "      <td>0.031936</td>\n",
       "      <td>0.030292</td>\n",
       "      <td>0.028608</td>\n",
       "    </tr>\n",
       "    <tr>\n",
       "      <th>2022-11-03 00:00:00</th>\n",
       "      <td>0.040389</td>\n",
       "      <td>0.039585</td>\n",
       "      <td>0.039350</td>\n",
       "      <td>0.041154</td>\n",
       "      <td>0.045281</td>\n",
       "      <td>0.047107</td>\n",
       "      <td>0.047894</td>\n",
       "      <td>0.046594</td>\n",
       "      <td>0.043833</td>\n",
       "      <td>0.041825</td>\n",
       "      <td>...</td>\n",
       "      <td>0.037221</td>\n",
       "      <td>0.037069</td>\n",
       "      <td>0.036886</td>\n",
       "      <td>0.036657</td>\n",
       "      <td>0.036372</td>\n",
       "      <td>0.036022</td>\n",
       "      <td>0.033811</td>\n",
       "      <td>0.032134</td>\n",
       "      <td>0.030407</td>\n",
       "      <td>0.028655</td>\n",
       "    </tr>\n",
       "    <tr>\n",
       "      <th>2022-11-04 00:00:00</th>\n",
       "      <td>0.045965</td>\n",
       "      <td>0.042343</td>\n",
       "      <td>0.038795</td>\n",
       "      <td>0.040611</td>\n",
       "      <td>0.045212</td>\n",
       "      <td>0.046752</td>\n",
       "      <td>0.047500</td>\n",
       "      <td>0.046097</td>\n",
       "      <td>0.043385</td>\n",
       "      <td>0.041503</td>\n",
       "      <td>...</td>\n",
       "      <td>0.037687</td>\n",
       "      <td>0.037557</td>\n",
       "      <td>0.037380</td>\n",
       "      <td>0.037152</td>\n",
       "      <td>0.036870</td>\n",
       "      <td>0.036534</td>\n",
       "      <td>0.034424</td>\n",
       "      <td>0.032558</td>\n",
       "      <td>0.030723</td>\n",
       "      <td>0.028933</td>\n",
       "    </tr>\n",
       "  </tbody>\n",
       "</table>\n",
       "<p>5 rows × 30 columns</p>\n",
       "</div>"
      ],
      "text/plain": [
       "T                    0.002778   0.083333   0.166667   0.250000   0.500000   \\\n",
       "2022-10-31 00:00:00   0.039191   0.038721   0.038670   0.040536   0.044577   \n",
       "2022-11-01 00:00:00   0.039604   0.039023   0.038886   0.040725   0.044849   \n",
       "2022-11-02 00:00:00   0.039948   0.039286   0.039100   0.040852   0.044884   \n",
       "2022-11-03 00:00:00   0.040389   0.039585   0.039350   0.041154   0.045281   \n",
       "2022-11-04 00:00:00   0.045965   0.042343   0.038795   0.040611   0.045212   \n",
       "\n",
       "T                    0.750000   1.000000   2.000000   3.000000   4.000000   \\\n",
       "2022-10-31 00:00:00   0.046004   0.046449   0.044583   0.042002   0.040318   \n",
       "2022-11-01 00:00:00   0.046448   0.046970   0.045022   0.042344   0.040614   \n",
       "2022-11-02 00:00:00   0.046580   0.047203   0.045496   0.042749   0.040868   \n",
       "2022-11-03 00:00:00   0.047107   0.047894   0.046594   0.043833   0.041825   \n",
       "2022-11-04 00:00:00   0.046752   0.047500   0.046097   0.043385   0.041503   \n",
       "\n",
       "T                    ...  15.000000  16.000000  17.000000  18.000000  \\\n",
       "2022-10-31 00:00:00  ...   0.037151   0.037057   0.036907   0.036698   \n",
       "2022-11-01 00:00:00  ...   0.036802   0.036682   0.036511   0.036287   \n",
       "2022-11-02 00:00:00  ...   0.036855   0.036701   0.036498   0.036248   \n",
       "2022-11-03 00:00:00  ...   0.037221   0.037069   0.036886   0.036657   \n",
       "2022-11-04 00:00:00  ...   0.037687   0.037557   0.037380   0.037152   \n",
       "\n",
       "T                    19.000000  20.000000  25.000000  30.000000  35.000000  \\\n",
       "2022-10-31 00:00:00   0.036433   0.036111   0.034091   0.032350   0.030552   \n",
       "2022-11-01 00:00:00   0.036010   0.035678   0.033645   0.031979   0.030238   \n",
       "2022-11-02 00:00:00   0.035953   0.035613   0.033627   0.031936   0.030292   \n",
       "2022-11-03 00:00:00   0.036372   0.036022   0.033811   0.032134   0.030407   \n",
       "2022-11-04 00:00:00   0.036870   0.036534   0.034424   0.032558   0.030723   \n",
       "\n",
       "T                    40.000000  \n",
       "2022-10-31 00:00:00   0.028708  \n",
       "2022-11-01 00:00:00   0.028478  \n",
       "2022-11-02 00:00:00   0.028608  \n",
       "2022-11-03 00:00:00   0.028655  \n",
       "2022-11-04 00:00:00   0.028933  \n",
       "\n",
       "[5 rows x 30 columns]"
      ]
     },
     "execution_count": 54,
     "metadata": {},
     "output_type": "execute_result"
    }
   ],
   "source": [
    "swap_raw.head()"
   ]
  },
  {
   "cell_type": "code",
   "execution_count": 55,
   "metadata": {},
   "outputs": [],
   "source": [
    "swap_raw_abs_change = swap_raw.diff().dropna()"
   ]
  },
  {
   "cell_type": "code",
   "execution_count": 56,
   "metadata": {},
   "outputs": [
    {
     "data": {
      "text/html": [
       "<div>\n",
       "<style scoped>\n",
       "    .dataframe tbody tr th:only-of-type {\n",
       "        vertical-align: middle;\n",
       "    }\n",
       "\n",
       "    .dataframe tbody tr th {\n",
       "        vertical-align: top;\n",
       "    }\n",
       "\n",
       "    .dataframe thead th {\n",
       "        text-align: right;\n",
       "    }\n",
       "</style>\n",
       "<table border=\"1\" class=\"dataframe\">\n",
       "  <thead>\n",
       "    <tr style=\"text-align: right;\">\n",
       "      <th>T</th>\n",
       "      <th>0.002778</th>\n",
       "      <th>0.083333</th>\n",
       "      <th>0.166667</th>\n",
       "      <th>0.250000</th>\n",
       "      <th>0.500000</th>\n",
       "      <th>0.750000</th>\n",
       "      <th>1.000000</th>\n",
       "      <th>2.000000</th>\n",
       "      <th>3.000000</th>\n",
       "      <th>4.000000</th>\n",
       "      <th>...</th>\n",
       "      <th>15.000000</th>\n",
       "      <th>16.000000</th>\n",
       "      <th>17.000000</th>\n",
       "      <th>18.000000</th>\n",
       "      <th>19.000000</th>\n",
       "      <th>20.000000</th>\n",
       "      <th>25.000000</th>\n",
       "      <th>30.000000</th>\n",
       "      <th>35.000000</th>\n",
       "      <th>40.000000</th>\n",
       "    </tr>\n",
       "  </thead>\n",
       "  <tbody>\n",
       "    <tr>\n",
       "      <th>2022-11-01 00:00:00</th>\n",
       "      <td>0.000413</td>\n",
       "      <td>0.000302</td>\n",
       "      <td>0.000216</td>\n",
       "      <td>0.000188</td>\n",
       "      <td>0.000272</td>\n",
       "      <td>0.000444</td>\n",
       "      <td>0.000521</td>\n",
       "      <td>0.000439</td>\n",
       "      <td>0.000342</td>\n",
       "      <td>0.000296</td>\n",
       "      <td>...</td>\n",
       "      <td>-0.000349</td>\n",
       "      <td>-0.000375</td>\n",
       "      <td>-0.000395</td>\n",
       "      <td>-0.000411</td>\n",
       "      <td>-0.000423</td>\n",
       "      <td>-0.000434</td>\n",
       "      <td>-0.000446</td>\n",
       "      <td>-0.000372</td>\n",
       "      <td>-0.000314</td>\n",
       "      <td>-0.000230</td>\n",
       "    </tr>\n",
       "    <tr>\n",
       "      <th>2022-11-02 00:00:00</th>\n",
       "      <td>0.000344</td>\n",
       "      <td>0.000262</td>\n",
       "      <td>0.000214</td>\n",
       "      <td>0.000128</td>\n",
       "      <td>0.000035</td>\n",
       "      <td>0.000132</td>\n",
       "      <td>0.000234</td>\n",
       "      <td>0.000474</td>\n",
       "      <td>0.000404</td>\n",
       "      <td>0.000254</td>\n",
       "      <td>...</td>\n",
       "      <td>0.000053</td>\n",
       "      <td>0.000019</td>\n",
       "      <td>-0.000013</td>\n",
       "      <td>-0.000040</td>\n",
       "      <td>-0.000058</td>\n",
       "      <td>-0.000064</td>\n",
       "      <td>-0.000018</td>\n",
       "      <td>-0.000043</td>\n",
       "      <td>0.000054</td>\n",
       "      <td>0.000130</td>\n",
       "    </tr>\n",
       "    <tr>\n",
       "      <th>2022-11-03 00:00:00</th>\n",
       "      <td>0.000440</td>\n",
       "      <td>0.000299</td>\n",
       "      <td>0.000250</td>\n",
       "      <td>0.000302</td>\n",
       "      <td>0.000397</td>\n",
       "      <td>0.000527</td>\n",
       "      <td>0.000690</td>\n",
       "      <td>0.001098</td>\n",
       "      <td>0.001085</td>\n",
       "      <td>0.000957</td>\n",
       "      <td>...</td>\n",
       "      <td>0.000366</td>\n",
       "      <td>0.000368</td>\n",
       "      <td>0.000388</td>\n",
       "      <td>0.000409</td>\n",
       "      <td>0.000420</td>\n",
       "      <td>0.000409</td>\n",
       "      <td>0.000184</td>\n",
       "      <td>0.000198</td>\n",
       "      <td>0.000115</td>\n",
       "      <td>0.000047</td>\n",
       "    </tr>\n",
       "    <tr>\n",
       "      <th>2022-11-04 00:00:00</th>\n",
       "      <td>0.005576</td>\n",
       "      <td>0.002758</td>\n",
       "      <td>-0.000555</td>\n",
       "      <td>-0.000543</td>\n",
       "      <td>-0.000069</td>\n",
       "      <td>-0.000355</td>\n",
       "      <td>-0.000394</td>\n",
       "      <td>-0.000497</td>\n",
       "      <td>-0.000448</td>\n",
       "      <td>-0.000322</td>\n",
       "      <td>...</td>\n",
       "      <td>0.000466</td>\n",
       "      <td>0.000488</td>\n",
       "      <td>0.000494</td>\n",
       "      <td>0.000495</td>\n",
       "      <td>0.000498</td>\n",
       "      <td>0.000512</td>\n",
       "      <td>0.000613</td>\n",
       "      <td>0.000424</td>\n",
       "      <td>0.000315</td>\n",
       "      <td>0.000278</td>\n",
       "    </tr>\n",
       "    <tr>\n",
       "      <th>2022-11-07 00:00:00</th>\n",
       "      <td>-0.005741</td>\n",
       "      <td>-0.003085</td>\n",
       "      <td>0.000665</td>\n",
       "      <td>0.000813</td>\n",
       "      <td>0.000243</td>\n",
       "      <td>0.000437</td>\n",
       "      <td>0.000429</td>\n",
       "      <td>0.000536</td>\n",
       "      <td>0.000499</td>\n",
       "      <td>0.000413</td>\n",
       "      <td>...</td>\n",
       "      <td>0.000431</td>\n",
       "      <td>0.000463</td>\n",
       "      <td>0.000487</td>\n",
       "      <td>0.000504</td>\n",
       "      <td>0.000512</td>\n",
       "      <td>0.000514</td>\n",
       "      <td>0.000498</td>\n",
       "      <td>0.000577</td>\n",
       "      <td>0.000577</td>\n",
       "      <td>0.000562</td>\n",
       "    </tr>\n",
       "  </tbody>\n",
       "</table>\n",
       "<p>5 rows × 30 columns</p>\n",
       "</div>"
      ],
      "text/plain": [
       "T                    0.002778   0.083333   0.166667   0.250000   0.500000   \\\n",
       "2022-11-01 00:00:00   0.000413   0.000302   0.000216   0.000188   0.000272   \n",
       "2022-11-02 00:00:00   0.000344   0.000262   0.000214   0.000128   0.000035   \n",
       "2022-11-03 00:00:00   0.000440   0.000299   0.000250   0.000302   0.000397   \n",
       "2022-11-04 00:00:00   0.005576   0.002758  -0.000555  -0.000543  -0.000069   \n",
       "2022-11-07 00:00:00  -0.005741  -0.003085   0.000665   0.000813   0.000243   \n",
       "\n",
       "T                    0.750000   1.000000   2.000000   3.000000   4.000000   \\\n",
       "2022-11-01 00:00:00   0.000444   0.000521   0.000439   0.000342   0.000296   \n",
       "2022-11-02 00:00:00   0.000132   0.000234   0.000474   0.000404   0.000254   \n",
       "2022-11-03 00:00:00   0.000527   0.000690   0.001098   0.001085   0.000957   \n",
       "2022-11-04 00:00:00  -0.000355  -0.000394  -0.000497  -0.000448  -0.000322   \n",
       "2022-11-07 00:00:00   0.000437   0.000429   0.000536   0.000499   0.000413   \n",
       "\n",
       "T                    ...  15.000000  16.000000  17.000000  18.000000  \\\n",
       "2022-11-01 00:00:00  ...  -0.000349  -0.000375  -0.000395  -0.000411   \n",
       "2022-11-02 00:00:00  ...   0.000053   0.000019  -0.000013  -0.000040   \n",
       "2022-11-03 00:00:00  ...   0.000366   0.000368   0.000388   0.000409   \n",
       "2022-11-04 00:00:00  ...   0.000466   0.000488   0.000494   0.000495   \n",
       "2022-11-07 00:00:00  ...   0.000431   0.000463   0.000487   0.000504   \n",
       "\n",
       "T                    19.000000  20.000000  25.000000  30.000000  35.000000  \\\n",
       "2022-11-01 00:00:00  -0.000423  -0.000434  -0.000446  -0.000372  -0.000314   \n",
       "2022-11-02 00:00:00  -0.000058  -0.000064  -0.000018  -0.000043   0.000054   \n",
       "2022-11-03 00:00:00   0.000420   0.000409   0.000184   0.000198   0.000115   \n",
       "2022-11-04 00:00:00   0.000498   0.000512   0.000613   0.000424   0.000315   \n",
       "2022-11-07 00:00:00   0.000512   0.000514   0.000498   0.000577   0.000577   \n",
       "\n",
       "T                    40.000000  \n",
       "2022-11-01 00:00:00  -0.000230  \n",
       "2022-11-02 00:00:00   0.000130  \n",
       "2022-11-03 00:00:00   0.000047  \n",
       "2022-11-04 00:00:00   0.000278  \n",
       "2022-11-07 00:00:00   0.000562  \n",
       "\n",
       "[5 rows x 30 columns]"
      ]
     },
     "execution_count": 56,
     "metadata": {},
     "output_type": "execute_result"
    }
   ],
   "source": [
    "swap_raw_abs_change.head()"
   ]
  },
  {
   "cell_type": "code",
   "execution_count": 57,
   "metadata": {},
   "outputs": [],
   "source": [
    "# clean up swap\n",
    "aapl_raw.rename(columns={\"Adj Close\": \"aapl_close\"}, inplace=True)\n",
    "msft_raw.rename(columns={\"Adj Close\": \"msft_close\"}, inplace=True)\n",
    "f_raw.rename(columns={\"Adj Close\": \"f_close\"}, inplace=True)\n",
    "bac_raw.rename(columns={\"Adj Close\": \"bac_close\"}, inplace=True)\n",
    "stock_raw = pd.concat([aapl_raw, msft_raw, f_raw, bac_raw], axis=1)\n",
    "stock_raw = stock_raw"
   ]
  },
  {
   "cell_type": "code",
   "execution_count": 58,
   "metadata": {},
   "outputs": [
    {
     "data": {
      "text/html": [
       "<div>\n",
       "<style scoped>\n",
       "    .dataframe tbody tr th:only-of-type {\n",
       "        vertical-align: middle;\n",
       "    }\n",
       "\n",
       "    .dataframe tbody tr th {\n",
       "        vertical-align: top;\n",
       "    }\n",
       "\n",
       "    .dataframe thead th {\n",
       "        text-align: right;\n",
       "    }\n",
       "</style>\n",
       "<table border=\"1\" class=\"dataframe\">\n",
       "  <thead>\n",
       "    <tr style=\"text-align: right;\">\n",
       "      <th></th>\n",
       "      <th>aapl_close</th>\n",
       "      <th>msft_close</th>\n",
       "      <th>f_close</th>\n",
       "      <th>bac_close</th>\n",
       "    </tr>\n",
       "    <tr>\n",
       "      <th>Date</th>\n",
       "      <th></th>\n",
       "      <th></th>\n",
       "      <th></th>\n",
       "      <th></th>\n",
       "    </tr>\n",
       "  </thead>\n",
       "  <tbody>\n",
       "    <tr>\n",
       "      <th>2022-10-31</th>\n",
       "      <td>152.041122</td>\n",
       "      <td>229.443207</td>\n",
       "      <td>11.974380</td>\n",
       "      <td>34.748581</td>\n",
       "    </tr>\n",
       "    <tr>\n",
       "      <th>2022-11-01</th>\n",
       "      <td>149.373917</td>\n",
       "      <td>225.529037</td>\n",
       "      <td>12.001248</td>\n",
       "      <td>34.902847</td>\n",
       "    </tr>\n",
       "    <tr>\n",
       "      <th>2022-11-02</th>\n",
       "      <td>143.801514</td>\n",
       "      <td>217.552444</td>\n",
       "      <td>11.696740</td>\n",
       "      <td>34.796783</td>\n",
       "    </tr>\n",
       "    <tr>\n",
       "      <th>2022-11-03</th>\n",
       "      <td>137.703613</td>\n",
       "      <td>211.770157</td>\n",
       "      <td>11.875863</td>\n",
       "      <td>34.603954</td>\n",
       "    </tr>\n",
       "    <tr>\n",
       "      <th>2022-11-04</th>\n",
       "      <td>137.435455</td>\n",
       "      <td>218.827515</td>\n",
       "      <td>12.099767</td>\n",
       "      <td>35.471703</td>\n",
       "    </tr>\n",
       "  </tbody>\n",
       "</table>\n",
       "</div>"
      ],
      "text/plain": [
       "            aapl_close  msft_close    f_close  bac_close\n",
       "Date                                                    \n",
       "2022-10-31  152.041122  229.443207  11.974380  34.748581\n",
       "2022-11-01  149.373917  225.529037  12.001248  34.902847\n",
       "2022-11-02  143.801514  217.552444  11.696740  34.796783\n",
       "2022-11-03  137.703613  211.770157  11.875863  34.603954\n",
       "2022-11-04  137.435455  218.827515  12.099767  35.471703"
      ]
     },
     "execution_count": 58,
     "metadata": {},
     "output_type": "execute_result"
    }
   ],
   "source": [
    "stock_raw.head()"
   ]
  },
  {
   "cell_type": "code",
   "execution_count": 59,
   "metadata": {},
   "outputs": [],
   "source": [
    "stock_raw_rel_change = stock_raw.pct_change().dropna()"
   ]
  },
  {
   "cell_type": "code",
   "execution_count": 60,
   "metadata": {},
   "outputs": [
    {
     "data": {
      "text/html": [
       "<div>\n",
       "<style scoped>\n",
       "    .dataframe tbody tr th:only-of-type {\n",
       "        vertical-align: middle;\n",
       "    }\n",
       "\n",
       "    .dataframe tbody tr th {\n",
       "        vertical-align: top;\n",
       "    }\n",
       "\n",
       "    .dataframe thead th {\n",
       "        text-align: right;\n",
       "    }\n",
       "</style>\n",
       "<table border=\"1\" class=\"dataframe\">\n",
       "  <thead>\n",
       "    <tr style=\"text-align: right;\">\n",
       "      <th></th>\n",
       "      <th>aapl_close</th>\n",
       "      <th>msft_close</th>\n",
       "      <th>f_close</th>\n",
       "      <th>bac_close</th>\n",
       "    </tr>\n",
       "    <tr>\n",
       "      <th>Date</th>\n",
       "      <th></th>\n",
       "      <th></th>\n",
       "      <th></th>\n",
       "      <th></th>\n",
       "    </tr>\n",
       "  </thead>\n",
       "  <tbody>\n",
       "    <tr>\n",
       "      <th>2022-11-01</th>\n",
       "      <td>-0.017543</td>\n",
       "      <td>-0.017059</td>\n",
       "      <td>0.002244</td>\n",
       "      <td>0.004439</td>\n",
       "    </tr>\n",
       "    <tr>\n",
       "      <th>2022-11-02</th>\n",
       "      <td>-0.037305</td>\n",
       "      <td>-0.035368</td>\n",
       "      <td>-0.025373</td>\n",
       "      <td>-0.003039</td>\n",
       "    </tr>\n",
       "    <tr>\n",
       "      <th>2022-11-03</th>\n",
       "      <td>-0.042405</td>\n",
       "      <td>-0.026579</td>\n",
       "      <td>0.015314</td>\n",
       "      <td>-0.005542</td>\n",
       "    </tr>\n",
       "    <tr>\n",
       "      <th>2022-11-04</th>\n",
       "      <td>-0.001947</td>\n",
       "      <td>0.033326</td>\n",
       "      <td>0.018854</td>\n",
       "      <td>0.025077</td>\n",
       "    </tr>\n",
       "    <tr>\n",
       "      <th>2022-11-07</th>\n",
       "      <td>0.003902</td>\n",
       "      <td>0.029270</td>\n",
       "      <td>0.014064</td>\n",
       "      <td>0.005980</td>\n",
       "    </tr>\n",
       "  </tbody>\n",
       "</table>\n",
       "</div>"
      ],
      "text/plain": [
       "            aapl_close  msft_close   f_close  bac_close\n",
       "Date                                                   \n",
       "2022-11-01   -0.017543   -0.017059  0.002244   0.004439\n",
       "2022-11-02   -0.037305   -0.035368 -0.025373  -0.003039\n",
       "2022-11-03   -0.042405   -0.026579  0.015314  -0.005542\n",
       "2022-11-04   -0.001947    0.033326  0.018854   0.025077\n",
       "2022-11-07    0.003902    0.029270  0.014064   0.005980"
      ]
     },
     "execution_count": 60,
     "metadata": {},
     "output_type": "execute_result"
    }
   ],
   "source": [
    "stock_raw_rel_change.head()"
   ]
  },
  {
   "cell_type": "code",
   "execution_count": 61,
   "metadata": {},
   "outputs": [],
   "source": [
    "# do we really need other rates if we know its 10y annual?\n",
    "swap_raw = swap_raw.loc[:, 1:10]\n",
    "swap_raw_abs_change = swap_raw_abs_change.loc[:, 1:10]"
   ]
  },
  {
   "cell_type": "code",
   "execution_count": 62,
   "metadata": {},
   "outputs": [],
   "source": [
    "stock_count = len(stock_raw_rel_change.columns)\n",
    "swap_count = len(swap_raw_abs_change.columns)\n",
    "risk_factor_count = swap_count + stock_count"
   ]
  },
  {
   "cell_type": "code",
   "execution_count": 63,
   "metadata": {},
   "outputs": [],
   "source": [
    "# current stock prices\n",
    "curr_stock_price = stock_raw.loc[start_date]\n",
    "# get the stock count, i.e. stock weights\n",
    "stock_weights = curr_stock_val / curr_stock_price.to_numpy()"
   ]
  },
  {
   "cell_type": "code",
   "execution_count": 64,
   "metadata": {},
   "outputs": [],
   "source": [
    "# current swap zero rate\n",
    "curr_swap_rate = swap_raw.loc[start_date]\n",
    "# current swap price - YES THIS IS HORRIBLE, NO I DONT CARE\n",
    "start_df = pd.DataFrame(curr_swap_rate).T\n",
    "for x in start_df.columns:\n",
    "    start_df[x] = np.exp(-start_df[x].astype(float) * (x))\n",
    "swap_simulated_disc = start_df.to_numpy()\n",
    "for i in range(len(swap_simulated_disc)):\n",
    "    temp_pv_fix = sum(swap_simulated_disc[i]) * fixed_leg_rate\n",
    "    temp_pv_float = 1 - swap_simulated_disc[i][-1]\n",
    "    curr_swap_price = temp_pv_float - temp_pv_fix\n",
    "curr_swap_price = curr_swap_price * swap_notional"
   ]
  },
  {
   "cell_type": "code",
   "execution_count": 65,
   "metadata": {},
   "outputs": [
    {
     "name": "stdout",
     "output_type": "stream",
     "text": [
      "current stock values are [1000000. 1000000. 1000000. 1000000.]\n",
      "current swap value is 2442901.9998463197\n"
     ]
    }
   ],
   "source": [
    "print(f\"current stock values are {curr_stock_val}\")\n",
    "print(f\"current swap value is {curr_swap_price}\")"
   ]
  },
  {
   "cell_type": "markdown",
   "metadata": {},
   "source": [
    "## Moddeling the Joint Distribution of the Daily Risk Factor Changes ##\n",
    "* For each risk factor, specify how you want to model their changes. As I suggested, one\n",
    "way is to model the absolute daily changes in the zero rate risk factors and model the\n",
    "daily relative returns of the stock prices.\n",
    "* Once the above is specified, follow the approach of each VaR model (parametric/Monte\n",
    "Carlo/historical) to model the joint distribution of the daily risk factor changes.\n",
    "\n",
    "For each risk factor, you would need to use the 1-year historical data provided to compute their\n",
    "daily changes over the 1-year historical period. Using the historical daily changes of the risk\n",
    "factors, one can then determine the joint distribution of 1-day risk factor changes under each of\n",
    "the 3 VaR models\n",
    "\n",
    "* Parametric VaR. The 1-day risk factor changes are assumed to be multivariate-normally\n",
    "distributed. One can simply estimate the means and covariance matrix of the multivariate\n",
    "normal distribution using the sample means and convariance matrix calculated from the\n",
    "historical daily changes.\n",
    "* Monte Carlo VaR. The 1-day risk factor changes are also assumed to be\n",
    "multivariate-normally distributed. Hence, one simply follow the same appproach as the\n",
    "parametric VaR to estimate the means and covariance matrix of the multivariate normal\n",
    "distribution.\n",
    "* Historical VaR. The joint distribution of the 1-day risk factor changes is simply given by\n",
    "the empirical distribution of the 1-year historical sample of daily risk factor changes.\n",
    "Dr. Tony Wong 4 / 21\n"
   ]
  },
  {
   "cell_type": "markdown",
   "metadata": {},
   "source": [
    "## Swap PV01 ##\n"
   ]
  },
  {
   "cell_type": "markdown",
   "metadata": {},
   "source": [
    "Begin with calculating the PV01, we will find the price of the option at T = 0"
   ]
  },
  {
   "cell_type": "code",
   "execution_count": 66,
   "metadata": {},
   "outputs": [],
   "source": [
    "start_df = pd.DataFrame(curr_swap_rate)\n",
    "start_df[\"disc_factor\"] = np.exp(-start_df.index * start_df[start_df.columns[0]])"
   ]
  },
  {
   "cell_type": "code",
   "execution_count": 67,
   "metadata": {},
   "outputs": [],
   "source": [
    "def get_pv_fix(df_with_discfactor, disc_factor_colname, the_fixed_rate):\n",
    "    total_df = 0\n",
    "    for x in df_with_discfactor.index:\n",
    "        # print(x)\n",
    "        if x in range(1, 11):\n",
    "            total_df += df_with_discfactor.loc[x, disc_factor_colname]\n",
    "    # print(f\"for {disc_factor_colname} sum is {total_df}\")\n",
    "    return total_df * the_fixed_rate"
   ]
  },
  {
   "cell_type": "code",
   "execution_count": 68,
   "metadata": {},
   "outputs": [],
   "source": [
    "def get_pv_float(df_with_discfactor, disc_factor_colname):\n",
    "    return 1 - df_with_discfactor.loc[10.0, disc_factor_colname]"
   ]
  },
  {
   "cell_type": "markdown",
   "metadata": {},
   "source": [
    "we tickle each of the zero rates by 1bp"
   ]
  },
  {
   "cell_type": "code",
   "execution_count": 69,
   "metadata": {},
   "outputs": [],
   "source": [
    "start_df_tickled = start_df.copy()"
   ]
  },
  {
   "cell_type": "code",
   "execution_count": 70,
   "metadata": {},
   "outputs": [],
   "source": [
    "start_df_tickled.drop(columns=[\"disc_factor\"], inplace=True)\n",
    "tickled_pv = []"
   ]
  },
  {
   "cell_type": "code",
   "execution_count": 71,
   "metadata": {},
   "outputs": [],
   "source": [
    "# this is highly inneficient but it works so stop complaining\n",
    "for tenor in start_df_tickled.index:\n",
    "    # add one bee pee\n",
    "    colname = f\"tickled{tenor}\"\n",
    "    colname_disc = f\"disc_tickled{tenor}\"\n",
    "    start_df_tickled[colname] = start_df_tickled[start_df_tickled.columns[0]]\n",
    "    start_df_tickled.loc[tenor, colname] = (\n",
    "        start_df_tickled.loc[tenor, colname] + one_bee_pee\n",
    "    )\n",
    "    start_df_tickled[colname_disc] = np.exp(\n",
    "        -start_df_tickled.index * start_df_tickled[colname]\n",
    "    )\n",
    "    temp_pv_fix = get_pv_fix(start_df_tickled, colname_disc, fixed_leg_rate)\n",
    "    temp_pv_float = get_pv_float(start_df_tickled, colname_disc)\n",
    "    temp_pv_total = temp_pv_float - temp_pv_fix\n",
    "    tickled_pv.append(temp_pv_total)\n",
    "    start_df_tickled.drop(columns=[colname], inplace=True)\n",
    "tickled_pv = np.array(tickled_pv)"
   ]
  },
  {
   "cell_type": "code",
   "execution_count": 72,
   "metadata": {},
   "outputs": [
    {
     "data": {
      "text/plain": [
       "array([2443300.60052302, 2443665.17952428, 2444001.29995438,\n",
       "       2444308.65520298, 2444587.474945  , 2444839.10545498,\n",
       "       2445065.2334407 , 2445267.32260306, 2445446.7767528 ,\n",
       "       2509961.52610256])"
      ]
     },
     "execution_count": 72,
     "metadata": {},
     "output_type": "execute_result"
    }
   ],
   "source": [
    "tickled_pv = tickled_pv * swap_notional\n",
    "tickled_pv"
   ]
  },
  {
   "cell_type": "code",
   "execution_count": 73,
   "metadata": {},
   "outputs": [
    {
     "data": {
      "text/plain": [
       "array([3.98600677e+06, 7.63179678e+06, 1.09930011e+07, 1.40665536e+07,\n",
       "       1.68547510e+07, 1.93710561e+07, 2.16323359e+07, 2.36532276e+07,\n",
       "       2.54477691e+07, 6.70595263e+08])"
      ]
     },
     "execution_count": 73,
     "metadata": {},
     "output_type": "execute_result"
    }
   ],
   "source": [
    "pv01 = tickled_pv - curr_swap_price\n",
    "pv01_notional = pv01 * 10_000\n",
    "pv01_notional"
   ]
  },
  {
   "cell_type": "markdown",
   "metadata": {},
   "source": [
    "## Combined Parametric ? ##"
   ]
  },
  {
   "cell_type": "code",
   "execution_count": 74,
   "metadata": {},
   "outputs": [],
   "source": [
    "port_sensitivity = []\n",
    "port_sensitivity.extend(pv01_notional)\n",
    "port_sensitivity.extend(curr_stock_val)"
   ]
  },
  {
   "cell_type": "code",
   "execution_count": 75,
   "metadata": {},
   "outputs": [],
   "source": [
    "# I THINK PROF GOT MISSING DATA\n",
    "combined_risk_factor = pd.concat(\n",
    "    [swap_raw_abs_change, stock_raw_rel_change], axis=1\n",
    ").dropna(axis=0)"
   ]
  },
  {
   "cell_type": "code",
   "execution_count": 76,
   "metadata": {},
   "outputs": [
    {
     "name": "stdout",
     "output_type": "stream",
     "text": [
      "1.0           0.000018\n",
      "2.0           0.000007\n",
      "3.0           0.000007\n",
      "4.0           0.000012\n",
      "5.0           0.000015\n",
      "6.0           0.000017\n",
      "7.0           0.000020\n",
      "8.0           0.000021\n",
      "9.0           0.000023\n",
      "10.0          0.000024\n",
      "aapl_close    0.000461\n",
      "msft_close    0.001606\n",
      "f_close      -0.000738\n",
      "bac_close    -0.001181\n",
      "dtype: float64\n"
     ]
    }
   ],
   "source": [
    "combined_mean = combined_risk_factor.mean()\n",
    "combined_var = combined_risk_factor.cov()\n",
    "print(combined_mean)"
   ]
  },
  {
   "cell_type": "code",
   "execution_count": 77,
   "metadata": {},
   "outputs": [
    {
     "data": {
      "text/plain": [
       "-936889.2562434216"
      ]
     },
     "execution_count": 77,
     "metadata": {},
     "output_type": "execute_result"
    }
   ],
   "source": [
    "# my instinct was to use np.dot, but this is easier to read & understand\n",
    "port_mean = np.matmul(port_sensitivity, combined_mean)\n",
    "port_var = np.matmul(np.matmul(port_sensitivity, combined_var), port_sensitivity)\n",
    "z_value = norm.ppf(var_percentile)\n",
    "var_port = port_mean + z_value * np.sqrt(port_var)\n",
    "var_port"
   ]
  },
  {
   "cell_type": "markdown",
   "metadata": {},
   "source": [
    "## MONTE CARLO - FULL REEVAL ##"
   ]
  },
  {
   "cell_type": "code",
   "execution_count": 78,
   "metadata": {},
   "outputs": [],
   "source": [
    "# whatever at this point\n",
    "# https://docs.scipy.org/doc/scipy/reference/generated/scipy.stats.qmc.Sobol.html\n",
    "def random_sobol_points(dimensions, power):\n",
    "    simulation = qmc.Sobol(d=dimensions, scramble=False)\n",
    "    simulation = simulation.random_base2(m=power)\n",
    "    simulation = np.delete(simulation, 0, axis=0)\n",
    "    return simulation\n",
    "\n",
    "\n",
    "def inverse_cdf(values, my_mean, my_std):\n",
    "    return norm.ppf(values, loc=my_mean, scale=my_std)"
   ]
  },
  {
   "cell_type": "markdown",
   "metadata": {},
   "source": [
    "1. Calculate the Base Scenario Portfolio Value"
   ]
  },
  {
   "cell_type": "code",
   "execution_count": 79,
   "metadata": {},
   "outputs": [
    {
     "name": "stdout",
     "output_type": "stream",
     "text": [
      "[1000000. 1000000. 1000000. 1000000.]\n",
      "2442901.9998463197\n"
     ]
    }
   ],
   "source": [
    "# does this mean we just combine pnl for the whole protfolio - NO\n",
    "# 1. calculate the base scenario portfolio value\n",
    "print(curr_stock_val)\n",
    "print(curr_swap_price)"
   ]
  },
  {
   "cell_type": "markdown",
   "metadata": {},
   "source": [
    "2. Joint distribution of the risk factor changes"
   ]
  },
  {
   "cell_type": "code",
   "execution_count": 80,
   "metadata": {},
   "outputs": [
    {
     "name": "stdout",
     "output_type": "stream",
     "text": [
      "(16383, 14)\n"
     ]
    }
   ],
   "source": [
    "combined_cholesky = np.linalg.cholesky(combined_risk_factor.corr().to_numpy())\n",
    "combined_rand_points = random_sobol_points(risk_factor_count, 14)\n",
    "rand_normal = inverse_cdf(\n",
    "    combined_rand_points, combined_risk_factor.mean(), combined_risk_factor.std()\n",
    ")\n",
    "print(combined_rand_points.shape)"
   ]
  },
  {
   "cell_type": "code",
   "execution_count": 81,
   "metadata": {},
   "outputs": [],
   "source": [
    "# ALRIGHT ALRIGHT FINE I FOLLOW UR SHEETS AAAAA\n",
    "correlated_std_normals_combined = np.matmul(combined_cholesky, rand_normal.T).T\n",
    "df_correlated_std_normals_combined = pd.DataFrame(correlated_std_normals_combined)\n",
    "# SPLIT THE SIMULATED VALUES !\n",
    "df_simu_for_swaps = df_correlated_std_normals_combined.loc[:, 0:9]\n",
    "df_simu_for_stocks = df_correlated_std_normals_combined.loc[:, 10:13]"
   ]
  },
  {
   "cell_type": "markdown",
   "metadata": {},
   "source": [
    "3. calculate the porvolio value Pi and eventually use it to calculate PnL"
   ]
  },
  {
   "cell_type": "code",
   "execution_count": 82,
   "metadata": {},
   "outputs": [],
   "source": [
    "stock_simulated_returns = (df_simu_for_stocks + 1).to_numpy()\n",
    "stock_simulated_prices = stock_simulated_returns * curr_stock_price.to_numpy()\n",
    "stock_simulated_port = stock_weights * stock_simulated_prices\n",
    "stock_simulated_pnl = stock_simulated_port - 1_000_000\n",
    "df_stock_simulated_pnl = pd.DataFrame(stock_simulated_pnl)"
   ]
  },
  {
   "cell_type": "code",
   "execution_count": 83,
   "metadata": {},
   "outputs": [],
   "source": [
    "# swap only monte carlo\n",
    "df_swap_simulated_rates = pd.DataFrame(\n",
    "    curr_swap_rate.to_numpy() + df_simu_for_swaps.to_numpy(),\n",
    "    columns=curr_swap_rate.index,\n",
    ")\n",
    "for x in df_swap_simulated_rates.columns:\n",
    "    df_swap_simulated_rates[x] = np.exp(-df_swap_simulated_rates[x].astype(float) * (x))\n",
    "# ok this becomes disc factor but fuck\n",
    "swap_simulated_disc = df_swap_simulated_rates.to_numpy()\n",
    "swap_simulated_pv = []\n",
    "for i in range(len(swap_simulated_disc)):\n",
    "    temp_pv_fix = sum(swap_simulated_disc[i]) * fixed_leg_rate\n",
    "    temp_pv_float = 1 - swap_simulated_disc[i][-1]\n",
    "    temp_pv_total = temp_pv_float - temp_pv_fix\n",
    "    swap_simulated_pv.append(temp_pv_total)\n",
    "swap_simulated_pv = np.array(swap_simulated_pv) * swap_notional\n",
    "df_swap_simulated_pnl = pd.DataFrame(swap_simulated_pv - curr_swap_price)"
   ]
  },
  {
   "cell_type": "markdown",
   "metadata": {},
   "source": [
    "4. Distribution of portfolio PnL"
   ]
  },
  {
   "cell_type": "code",
   "execution_count": 84,
   "metadata": {},
   "outputs": [],
   "source": [
    "df_mc_reval_simulated_pnl = pd.concat(\n",
    "    [df_stock_simulated_pnl, df_swap_simulated_pnl], axis=1\n",
    ")\n",
    "df_mc_reval_simulated_pnl = df_mc_reval_simulated_pnl.sum(axis=1)\n",
    "port_var_mc_fullreval = df_mc_reval_simulated_pnl.quantile(var_percentile)"
   ]
  },
  {
   "cell_type": "markdown",
   "metadata": {},
   "source": [
    "## MONTE CARLO - RISK BASED ##"
   ]
  },
  {
   "cell_type": "code",
   "execution_count": 85,
   "metadata": {},
   "outputs": [
    {
     "name": "stdout",
     "output_type": "stream",
     "text": [
      "-1109662.4582711295\n"
     ]
    }
   ],
   "source": [
    "port_val_mc_riskbased = np.matmul(\n",
    "    port_sensitivity, df_correlated_std_normals_combined.to_numpy().T\n",
    ")\n",
    "port_val_mc_riskbased = pd.Series(port_val_mc_riskbased)\n",
    "port_var_mc_riskbased = port_val_mc_riskbased.quantile(var_percentile)\n",
    "print(port_var_mc_riskbased)"
   ]
  },
  {
   "cell_type": "markdown",
   "metadata": {},
   "source": [
    "## Historical - FULL RE EVALUATION ##"
   ]
  },
  {
   "cell_type": "markdown",
   "metadata": {},
   "source": [
    "1. Calculate the Base Scenario Portfolio Value"
   ]
  },
  {
   "cell_type": "code",
   "execution_count": 86,
   "metadata": {},
   "outputs": [
    {
     "name": "stdout",
     "output_type": "stream",
     "text": [
      "[1000000. 1000000. 1000000. 1000000.]\n",
      "2442901.9998463197\n"
     ]
    }
   ],
   "source": [
    "print(curr_stock_val)\n",
    "print(curr_swap_price)"
   ]
  },
  {
   "cell_type": "markdown",
   "metadata": {},
   "source": [
    "2. Joint distribution of the risk factor changes"
   ]
  },
  {
   "cell_type": "code",
   "execution_count": 87,
   "metadata": {},
   "outputs": [],
   "source": [
    "# SPLIT THE SIMULATED VALUES !\n",
    "df_hist_for_swaps = swap_raw_abs_change\n",
    "df_hist_for_stocks = stock_raw_rel_change"
   ]
  },
  {
   "cell_type": "markdown",
   "metadata": {},
   "source": [
    "3. calculate the porvolio value Pi and eventually use it to calculate PnL"
   ]
  },
  {
   "cell_type": "code",
   "execution_count": 88,
   "metadata": {},
   "outputs": [
    {
     "data": {
      "text/html": [
       "<div>\n",
       "<style scoped>\n",
       "    .dataframe tbody tr th:only-of-type {\n",
       "        vertical-align: middle;\n",
       "    }\n",
       "\n",
       "    .dataframe tbody tr th {\n",
       "        vertical-align: top;\n",
       "    }\n",
       "\n",
       "    .dataframe thead th {\n",
       "        text-align: right;\n",
       "    }\n",
       "</style>\n",
       "<table border=\"1\" class=\"dataframe\">\n",
       "  <thead>\n",
       "    <tr style=\"text-align: right;\">\n",
       "      <th></th>\n",
       "      <th>0</th>\n",
       "      <th>1</th>\n",
       "      <th>2</th>\n",
       "      <th>3</th>\n",
       "    </tr>\n",
       "  </thead>\n",
       "  <tbody>\n",
       "    <tr>\n",
       "      <th>0</th>\n",
       "      <td>-17542.655335</td>\n",
       "      <td>-17059.428567</td>\n",
       "      <td>2243.790493</td>\n",
       "      <td>4439.490637</td>\n",
       "    </tr>\n",
       "    <tr>\n",
       "      <th>1</th>\n",
       "      <td>-37305.060428</td>\n",
       "      <td>-35368.363675</td>\n",
       "      <td>-25373.027872</td>\n",
       "      <td>-3038.835199</td>\n",
       "    </tr>\n",
       "    <tr>\n",
       "      <th>2</th>\n",
       "      <td>-42404.984693</td>\n",
       "      <td>-26578.818853</td>\n",
       "      <td>15313.925077</td>\n",
       "      <td>-5541.575496</td>\n",
       "    </tr>\n",
       "    <tr>\n",
       "      <th>3</th>\n",
       "      <td>-1947.356312</td>\n",
       "      <td>33325.554932</td>\n",
       "      <td>18853.703516</td>\n",
       "      <td>25076.585179</td>\n",
       "    </tr>\n",
       "    <tr>\n",
       "      <th>4</th>\n",
       "      <td>3902.093532</td>\n",
       "      <td>29269.692159</td>\n",
       "      <td>14063.576596</td>\n",
       "      <td>5979.865134</td>\n",
       "    </tr>\n",
       "    <tr>\n",
       "      <th>...</th>\n",
       "      <td>...</td>\n",
       "      <td>...</td>\n",
       "      <td>...</td>\n",
       "      <td>...</td>\n",
       "    </tr>\n",
       "    <tr>\n",
       "      <th>245</th>\n",
       "      <td>2543.334713</td>\n",
       "      <td>3674.240518</td>\n",
       "      <td>-7839.614216</td>\n",
       "      <td>-3910.865120</td>\n",
       "    </tr>\n",
       "    <tr>\n",
       "      <th>246</th>\n",
       "      <td>-13491.581744</td>\n",
       "      <td>30678.046863</td>\n",
       "      <td>13169.354821</td>\n",
       "      <td>3140.968115</td>\n",
       "    </tr>\n",
       "    <tr>\n",
       "      <th>247</th>\n",
       "      <td>-24605.546085</td>\n",
       "      <td>-37514.323638</td>\n",
       "      <td>-16464.393007</td>\n",
       "      <td>22309.172066</td>\n",
       "    </tr>\n",
       "    <tr>\n",
       "      <th>248</th>\n",
       "      <td>7969.294457</td>\n",
       "      <td>5855.609927</td>\n",
       "      <td>-122466.946714</td>\n",
       "      <td>-36370.607896</td>\n",
       "    </tr>\n",
       "    <tr>\n",
       "      <th>249</th>\n",
       "      <td>12305.189483</td>\n",
       "      <td>22740.345285</td>\n",
       "      <td>-19076.314537</td>\n",
       "      <td>20659.533800</td>\n",
       "    </tr>\n",
       "  </tbody>\n",
       "</table>\n",
       "<p>250 rows × 4 columns</p>\n",
       "</div>"
      ],
      "text/plain": [
       "                0             1              2             3\n",
       "0   -17542.655335 -17059.428567    2243.790493   4439.490637\n",
       "1   -37305.060428 -35368.363675  -25373.027872  -3038.835199\n",
       "2   -42404.984693 -26578.818853   15313.925077  -5541.575496\n",
       "3    -1947.356312  33325.554932   18853.703516  25076.585179\n",
       "4     3902.093532  29269.692159   14063.576596   5979.865134\n",
       "..            ...           ...            ...           ...\n",
       "245   2543.334713   3674.240518   -7839.614216  -3910.865120\n",
       "246 -13491.581744  30678.046863   13169.354821   3140.968115\n",
       "247 -24605.546085 -37514.323638  -16464.393007  22309.172066\n",
       "248   7969.294457   5855.609927 -122466.946714 -36370.607896\n",
       "249  12305.189483  22740.345285  -19076.314537  20659.533800\n",
       "\n",
       "[250 rows x 4 columns]"
      ]
     },
     "execution_count": 88,
     "metadata": {},
     "output_type": "execute_result"
    }
   ],
   "source": [
    "stock_historical_returns = (df_hist_for_stocks + 1).to_numpy()\n",
    "stock_historical_prices = stock_historical_returns * curr_stock_price.to_numpy()\n",
    "stock_historical_port = stock_weights * stock_historical_prices\n",
    "stock_historical_pnl = stock_historical_port - 1_000_000\n",
    "df_stock_historical_pnl = pd.DataFrame(stock_historical_pnl)\n",
    "df_stock_historical_pnl"
   ]
  },
  {
   "cell_type": "code",
   "execution_count": 89,
   "metadata": {},
   "outputs": [],
   "source": [
    "# swap only monte carlo\n",
    "df_swap_historical_rates = pd.DataFrame(\n",
    "    curr_swap_rate.to_numpy() + df_hist_for_swaps.to_numpy(),\n",
    "    columns=curr_swap_rate.index,\n",
    ")\n",
    "for x in df_swap_historical_rates.columns:\n",
    "    df_swap_historical_rates[x] = np.exp(\n",
    "        -df_swap_historical_rates[x].astype(float) * (x)\n",
    "    )\n",
    "# ok this becomes disc factor but fuck\n",
    "swap_historical_disc = df_swap_historical_rates.to_numpy()\n",
    "swap_historical_pv = []\n",
    "for i in range(len(swap_historical_disc)):\n",
    "    temp_pv_fix = sum(swap_historical_disc[i]) * fixed_leg_rate\n",
    "    temp_pv_float = 1 - swap_historical_disc[i][-1]\n",
    "    temp_pv_total = temp_pv_float - temp_pv_fix\n",
    "    swap_historical_pv.append(temp_pv_total)\n",
    "swap_historical_pv = np.array(swap_historical_pv) * swap_notional\n",
    "df_swap_historical_pnl = pd.DataFrame(swap_historical_pv - curr_swap_price)"
   ]
  },
  {
   "cell_type": "markdown",
   "metadata": {},
   "source": [
    "4. Distribution of portfolio PnL"
   ]
  },
  {
   "cell_type": "code",
   "execution_count": 90,
   "metadata": {},
   "outputs": [],
   "source": [
    "df_historical_reval_pnl = pd.concat(\n",
    "    [df_stock_historical_pnl, df_swap_historical_pnl], axis=1\n",
    ")\n",
    "df_historical_reval_pnl = df_historical_reval_pnl.sum(axis=1)\n",
    "port_var_hist_fullreval = df_historical_reval_pnl.quantile(var_percentile)"
   ]
  },
  {
   "cell_type": "markdown",
   "metadata": {},
   "source": [
    "## HISTORICAL - RISK BASED ##"
   ]
  },
  {
   "cell_type": "code",
   "execution_count": 91,
   "metadata": {},
   "outputs": [
    {
     "name": "stdout",
     "output_type": "stream",
     "text": [
      "-980180.011697411\n"
     ]
    }
   ],
   "source": [
    "port_val_hist_riskbased = np.matmul(port_sensitivity, combined_risk_factor.to_numpy().T)\n",
    "port_val_hist_riskbased = pd.Series(port_val_hist_riskbased)\n",
    "port_var_hist_risk_based = port_val_hist_riskbased.quantile(var_percentile)\n",
    "print(port_var_hist_risk_based)"
   ]
  },
  {
   "cell_type": "markdown",
   "metadata": {},
   "source": [
    "## CONCLUSION ! ##"
   ]
  },
  {
   "cell_type": "code",
   "execution_count": 92,
   "metadata": {},
   "outputs": [
    {
     "name": "stdout",
     "output_type": "stream",
     "text": [
      "parametric VAR -936889.2562434216\n",
      "monte carlo VAR full reval -1117690.4994785693\n",
      "monte carlo VAR risk based -1109662.4582711295\n",
      "historical VAR full reval -966173.2175561559\n",
      "historical VAR risk based -980180.011697411\n"
     ]
    }
   ],
   "source": [
    "print(f\"parametric VAR {var_port}\")\n",
    "print(f\"monte carlo VAR full reval {port_var_mc_fullreval}\")\n",
    "print(f\"monte carlo VAR risk based {port_var_mc_riskbased}\")\n",
    "print(f\"historical VAR full reval {port_var_hist_fullreval}\")\n",
    "print(f\"historical VAR risk based {port_var_hist_risk_based}\")"
   ]
  }
 ],
 "metadata": {
  "kernelspec": {
   "display_name": "Python 3",
   "language": "python",
   "name": "python3"
  },
  "language_info": {
   "codemirror_mode": {
    "name": "ipython",
    "version": 3
   },
   "file_extension": ".py",
   "mimetype": "text/x-python",
   "name": "python",
   "nbconvert_exporter": "python",
   "pygments_lexer": "ipython3",
   "version": "3.11.5"
  }
 },
 "nbformat": 4,
 "nbformat_minor": 2
}
