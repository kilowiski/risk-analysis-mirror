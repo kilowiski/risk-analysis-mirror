{
 "cells": [
  {
   "cell_type": "code",
   "execution_count": 17,
   "metadata": {},
   "outputs": [
    {
     "name": "stdout",
     "output_type": "stream",
     "text": [
      "Sheet Names:\n",
      "    -  SofrCurve\n",
      "    -  AAPL\n",
      "    -  MSFT\n",
      "    -  F\n",
      "    -  BAC\n"
     ]
    }
   ],
   "source": [
    "import pandas as pd\n",
    "import numpy as np\n",
    "from scipy.stats import norm\n",
    "\n",
    "file_path = r'C:\\Users\\dylan\\Desktop\\QF609 (Risk Analytics)\\Group Project 1\\hist_data.xlsm'\n",
    "\n",
    "# CONVERT SHEETS TO DATAFRAMES\n",
    "excel_file = pd.ExcelFile(file_path)\n",
    "sheet_names = excel_file.sheet_names\n",
    "dfs = {sheet_name: excel_file.parse(sheet_name) for sheet_name in sheet_names}\n",
    "\n",
    "print(\"Sheet Names:\")\n",
    "for sheet_name, df in dfs.items():\n",
    "    print(\"    - \", sheet_name)\n",
    "\n",
    "    # DECLARE VARIABLES\n",
    "notional = 100_000_000\n",
    "start_date = '2022-10-31'\n",
    "end_date = '2024-10-30'\n",
    "strike = 4.2/100\n",
    "confidence_level = 0.95"
   ]
  },
  {
   "cell_type": "code",
   "execution_count": 16,
   "metadata": {},
   "outputs": [
    {
     "data": {
      "text/html": [
       "<div>\n",
       "<style scoped>\n",
       "    .dataframe tbody tr th:only-of-type {\n",
       "        vertical-align: middle;\n",
       "    }\n",
       "\n",
       "    .dataframe tbody tr th {\n",
       "        vertical-align: top;\n",
       "    }\n",
       "\n",
       "    .dataframe thead th {\n",
       "        text-align: right;\n",
       "    }\n",
       "</style>\n",
       "<table border=\"1\" class=\"dataframe\">\n",
       "  <thead>\n",
       "    <tr style=\"text-align: right;\">\n",
       "      <th></th>\n",
       "      <th>sofr_rate</th>\n",
       "      <th>daily_return</th>\n",
       "    </tr>\n",
       "    <tr>\n",
       "      <th>date</th>\n",
       "      <th></th>\n",
       "      <th></th>\n",
       "    </tr>\n",
       "  </thead>\n",
       "  <tbody>\n",
       "    <tr>\n",
       "      <th>2022-10-31</th>\n",
       "      <td>0.037353</td>\n",
       "      <td>NaN</td>\n",
       "    </tr>\n",
       "    <tr>\n",
       "      <th>2022-11-01</th>\n",
       "      <td>0.037209</td>\n",
       "      <td>-0.000144</td>\n",
       "    </tr>\n",
       "    <tr>\n",
       "      <th>2022-11-02</th>\n",
       "      <td>0.0373</td>\n",
       "      <td>0.000091</td>\n",
       "    </tr>\n",
       "    <tr>\n",
       "      <th>2022-11-03</th>\n",
       "      <td>0.037796</td>\n",
       "      <td>0.000495</td>\n",
       "    </tr>\n",
       "    <tr>\n",
       "      <th>2022-11-04</th>\n",
       "      <td>0.037988</td>\n",
       "      <td>0.000192</td>\n",
       "    </tr>\n",
       "  </tbody>\n",
       "</table>\n",
       "</div>"
      ],
      "text/plain": [
       "           sofr_rate daily_return\n",
       "date                             \n",
       "2022-10-31  0.037353          NaN\n",
       "2022-11-01  0.037209    -0.000144\n",
       "2022-11-02    0.0373     0.000091\n",
       "2022-11-03  0.037796     0.000495\n",
       "2022-11-04  0.037988     0.000192"
      ]
     },
     "metadata": {},
     "output_type": "display_data"
    },
    {
     "name": "stdout",
     "output_type": "stream",
     "text": [
      "SOFR Mean Daily Return is 0.00267%\n",
      "SOFR Std Dev of Return is 0.00071\n",
      "Parametric VAR for SOFR at 95.00% confidence level: $115,987.90\n"
     ]
    }
   ],
   "source": [
    "## DATA PREP 1: SOFR 10Y TENOR\n",
    "df = dfs['SofrCurve']\n",
    "tenor_ten_years_df = df[df['Tenor'] == '10Y']\n",
    "tenor_ten_years_df = tenor_ten_years_df.transpose()\n",
    "tenor_ten_years_df = tenor_ten_years_df.iloc[2:]\n",
    "tenor_ten_years_df = tenor_ten_years_df.reset_index()\n",
    "tenor_ten_years_df = tenor_ten_years_df.rename(columns={'index':'date', 15:'sofr_rate'})\n",
    "\n",
    "# DATA PREP 2: CAST DATE\n",
    "df = tenor_ten_years_df\n",
    "df['date'] = pd.to_datetime(df['date'])\n",
    "df.set_index('date', inplace=True)\n",
    "\n",
    "# CALCULATE DAILY RETURNS\n",
    "df['daily_return'] = df['sofr_rate'] - df['sofr_rate'].shift(1)\n",
    "dfs['SofrCurve2'] = df\n",
    "\n",
    "# MEAN & STD DEV OF RETURNS\n",
    "mean_return = df['daily_return'].mean()\n",
    "std_dev = df['daily_return'].std()\n",
    "\n",
    "# Z SCORE BASED ON CONDFIDENCE LEVEL\n",
    "z_score = norm.ppf(confidence_level)\n",
    "\n",
    "# CALCULATE VAR\n",
    "VAR = notional * z_score * std_dev\n",
    "\n",
    "display(df.head())\n",
    "print(f'SOFR Mean Daily Return is {mean_return*100:.5f}%')\n",
    "print(f'SOFR Std Dev of Return is {std_dev:.5f}')\n",
    "print(f'Parametric VAR for SOFR at {confidence_level * 100:.2f}% confidence level: ${VAR:,.2f}')"
   ]
  },
  {
   "cell_type": "code",
   "execution_count": 15,
   "metadata": {},
   "outputs": [
    {
     "name": "stdout",
     "output_type": "stream",
     "text": [
      "AAPL Mean Daily Return is 0.05680%\n",
      "AAPL Std Dev of Return is 0.01587\n",
      "Parametric AAPL VAR at 95% confidence level: $2,611,065.70\n",
      "\n",
      "MSFT Mean Daily Return is 0.16922%\n",
      "MSFT Std Dev of Return is 0.01788\n",
      "Parametric MSFT VAR at 95% confidence level: $2,941,687.01\n",
      "\n",
      "F Mean Daily Return is -0.06189%\n",
      "F Std Dev of Return is 0.02254\n",
      "Parametric F VAR at 95% confidence level: $3,707,195.13\n",
      "\n",
      "BAC Mean Daily Return is -0.11051%\n",
      "BAC Std Dev of Return is 0.01638\n",
      "Parametric BAC VAR at 95% confidence level: $2,693,693.43\n",
      "\n"
     ]
    }
   ],
   "source": [
    "def calculate_parametric_var(stock_symbol, confidence_level, notional, dfs):\n",
    "    df = dfs[stock_symbol]\n",
    "\n",
    "    # CALCULATE DAILY RETURNS\n",
    "    df['daily_return'] = df['Adj Close'].pct_change()\n",
    "\n",
    "    # MEAN & STD DEV OF RETURNS\n",
    "    mean_return = df['daily_return'].mean()\n",
    "    std_dev = df['daily_return'].std()\n",
    "\n",
    "    # Z SCORE BASED ON CONFIDENCE LEVEL\n",
    "    z_score = norm.ppf(confidence_level)\n",
    "\n",
    "    # CALCULATE VAR\n",
    "    VAR = notional * z_score * std_dev\n",
    "\n",
    "    # display(df.head())\n",
    "    print(f'{stock_symbol} Mean Daily Return is {mean_return * 100:.5f}%')\n",
    "    print(f'{stock_symbol} Std Dev of Return is {std_dev:.5f}')\n",
    "    print(f'Parametric {stock_symbol} VAR at {confidence_level * 100:.0f}% confidence level: ${VAR:,.2f}\\n')\n",
    "\n",
    "stocks_of_interest = ['AAPL', 'MSFT', 'F', 'BAC']\n",
    "equity_dfs = {stock: dfs[stock] for stock in stocks_of_interest}\n",
    "\n",
    "# Calculate parametric VAR for each stock\n",
    "for i in equity_dfs:\n",
    "    calculate_parametric_var(i, confidence_level, notional, dfs)"
   ]
  }
 ],
 "metadata": {
  "kernelspec": {
   "display_name": "base",
   "language": "python",
   "name": "python3"
  },
  "language_info": {
   "codemirror_mode": {
    "name": "ipython",
    "version": 3
   },
   "file_extension": ".py",
   "mimetype": "text/x-python",
   "name": "python",
   "nbconvert_exporter": "python",
   "pygments_lexer": "ipython3",
   "version": "3.11.5"
  }
 },
 "nbformat": 4,
 "nbformat_minor": 2
}
