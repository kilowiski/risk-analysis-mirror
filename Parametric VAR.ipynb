{
 "cells": [
  {
   "cell_type": "code",
   "execution_count": 1,
   "metadata": {},
   "outputs": [],
   "source": [
    "import pandas as pd\n",
    "import numpy as np\n",
    "from scipy.stats import norm"
   ]
  },
  {
   "cell_type": "code",
   "execution_count": 2,
   "metadata": {},
   "outputs": [
    {
     "name": "stdout",
     "output_type": "stream",
     "text": [
      "Sheet Names:\n",
      "    -  SofrCurve\n",
      "    -  AAPL\n",
      "    -  MSFT\n",
      "    -  F\n",
      "    -  BAC\n"
     ]
    }
   ],
   "source": [
    "import pandas as pd\n",
    "\n",
    "file_path = r'C:\\Users\\dylan\\Desktop\\QF609 (Risk Analytics)\\Group Project 1\\hist_data.xlsm'\n",
    "\n",
    "# Read all sheets into a dictionary of DataFrames\n",
    "excel_file = pd.ExcelFile(file_path)\n",
    "sheet_names = excel_file.sheet_names\n",
    "dfs = {sheet_name: excel_file.parse(sheet_name) for sheet_name in sheet_names}\n",
    "\n",
    "print(\"Sheet Names:\")\n",
    "for sheet_name, df in dfs.items():\n",
    "    print(\"    - \", sheet_name)"
   ]
  },
  {
   "cell_type": "code",
   "execution_count": 3,
   "metadata": {},
   "outputs": [],
   "source": [
    "# Declare variables\n",
    "notional = 100_000_000\n",
    "start_date = '2022-10-31'\n",
    "end_date = '2024-10-30'\n",
    "strike = 4.2/100\n",
    "confidence_level = 0.95"
   ]
  },
  {
   "cell_type": "code",
   "execution_count": 9,
   "metadata": {},
   "outputs": [
    {
     "data": {
      "text/html": [
       "<div>\n",
       "<style scoped>\n",
       "    .dataframe tbody tr th:only-of-type {\n",
       "        vertical-align: middle;\n",
       "    }\n",
       "\n",
       "    .dataframe tbody tr th {\n",
       "        vertical-align: top;\n",
       "    }\n",
       "\n",
       "    .dataframe thead th {\n",
       "        text-align: right;\n",
       "    }\n",
       "</style>\n",
       "<table border=\"1\" class=\"dataframe\">\n",
       "  <thead>\n",
       "    <tr style=\"text-align: right;\">\n",
       "      <th></th>\n",
       "      <th>sofr_rate</th>\n",
       "      <th>daily_return</th>\n",
       "    </tr>\n",
       "    <tr>\n",
       "      <th>date</th>\n",
       "      <th></th>\n",
       "      <th></th>\n",
       "    </tr>\n",
       "  </thead>\n",
       "  <tbody>\n",
       "    <tr>\n",
       "      <th>2022-10-31</th>\n",
       "      <td>0.037353</td>\n",
       "      <td>NaN</td>\n",
       "    </tr>\n",
       "    <tr>\n",
       "      <th>2022-11-01</th>\n",
       "      <td>0.037209</td>\n",
       "      <td>-0.000144</td>\n",
       "    </tr>\n",
       "    <tr>\n",
       "      <th>2022-11-02</th>\n",
       "      <td>0.0373</td>\n",
       "      <td>0.000091</td>\n",
       "    </tr>\n",
       "    <tr>\n",
       "      <th>2022-11-03</th>\n",
       "      <td>0.037796</td>\n",
       "      <td>0.000495</td>\n",
       "    </tr>\n",
       "    <tr>\n",
       "      <th>2022-11-04</th>\n",
       "      <td>0.037988</td>\n",
       "      <td>0.000192</td>\n",
       "    </tr>\n",
       "  </tbody>\n",
       "</table>\n",
       "</div>"
      ],
      "text/plain": [
       "           sofr_rate daily_return\n",
       "date                             \n",
       "2022-10-31  0.037353          NaN\n",
       "2022-11-01  0.037209    -0.000144\n",
       "2022-11-02    0.0373     0.000091\n",
       "2022-11-03  0.037796     0.000495\n",
       "2022-11-04  0.037988     0.000192"
      ]
     },
     "metadata": {},
     "output_type": "display_data"
    },
    {
     "name": "stdout",
     "output_type": "stream",
     "text": [
      "SOFR Mean Daily Return is 0.0026682558430981607\n",
      "Parametric VAR for SOFR at 95.00% confidence level: $115,987.90\n"
     ]
    }
   ],
   "source": [
    "## DATA PREP 1: SOFR 10Y TENOR\n",
    "df = dfs['SofrCurve']\n",
    "tenor_ten_years_df = df[df['Tenor'] == '10Y']\n",
    "tenor_ten_years_df = tenor_ten_years_df.transpose()\n",
    "tenor_ten_years_df = tenor_ten_years_df.iloc[2:]\n",
    "tenor_ten_years_df = tenor_ten_years_df.reset_index()\n",
    "tenor_ten_years_df = tenor_ten_years_df.rename(columns={'index':'date', 15:'sofr_rate'})\n",
    "\n",
    "# DATA PREP 2: CAST DATE\n",
    "df = tenor_ten_years_df\n",
    "df['date'] = pd.to_datetime(df['date'])\n",
    "df.set_index('date', inplace=True)\n",
    "\n",
    "# CALCULATE DAILY RETURNS\n",
    "df['daily_return'] = df['sofr_rate'] - df['sofr_rate'].shift(1)\n",
    "\n",
    "# MEAN & STD DEV OF RETURNS\n",
    "mean_return = df['daily_return'].mean()\n",
    "std_dev = df['daily_return'].std()\n",
    "\n",
    "# Z SCORE BASED ON CONDFIDENCE LEVEL\n",
    "z_score = norm.ppf(confidence_level)\n",
    "\n",
    "# CALCULATE VAR\n",
    "VAR = notional * z_score * std_dev\n",
    "\n",
    "display(df.head())\n",
    "print(f'SOFR Mean Daily Return is {mean_return*100}')\n",
    "print(f'Parametric VAR for SOFR at {confidence_level * 100:.2f}% confidence level: ${VAR:,.2f}')"
   ]
  },
  {
   "cell_type": "code",
   "execution_count": null,
   "metadata": {},
   "outputs": [],
   "source": []
  }
 ],
 "metadata": {
  "kernelspec": {
   "display_name": "base",
   "language": "python",
   "name": "python3"
  },
  "language_info": {
   "codemirror_mode": {
    "name": "ipython",
    "version": 3
   },
   "file_extension": ".py",
   "mimetype": "text/x-python",
   "name": "python",
   "nbconvert_exporter": "python",
   "pygments_lexer": "ipython3",
   "version": "3.11.5"
  }
 },
 "nbformat": 4,
 "nbformat_minor": 2
}
